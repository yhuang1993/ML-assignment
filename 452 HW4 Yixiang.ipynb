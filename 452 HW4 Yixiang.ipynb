{
 "cells": [
  {
   "cell_type": "code",
   "execution_count": 628,
   "id": "7f00bba5",
   "metadata": {},
   "outputs": [],
   "source": [
    "import numpy as np\n",
    "import pandas as pd\n",
    "from sklearn.linear_model import Ridge, Lasso\n",
    "from sklearn.metrics import mean_squared_error,r2_score\n",
    "from sklearn.model_selection import train_test_split, cross_val_score\n",
    "from sklearn import model_selection\n",
    "import matplotlib.pyplot as plt\n",
    "from sklearn.linear_model import RidgeCV, LassoCV"
   ]
  },
  {
   "cell_type": "code",
   "execution_count": 629,
   "id": "5f7fb39a",
   "metadata": {},
   "outputs": [],
   "source": [
    "car = pd.read_csv(\"/Users/huangyixiang/Desktop/udemy/UNZIP_FOR_NOTEBOOKS_FINAL/MLHomework/assignment4.csv\")"
   ]
  },
  {
   "cell_type": "code",
   "execution_count": 630,
   "id": "30dc8766",
   "metadata": {},
   "outputs": [
    {
     "data": {
      "text/html": [
       "<div>\n",
       "<style scoped>\n",
       "    .dataframe tbody tr th:only-of-type {\n",
       "        vertical-align: middle;\n",
       "    }\n",
       "\n",
       "    .dataframe tbody tr th {\n",
       "        vertical-align: top;\n",
       "    }\n",
       "\n",
       "    .dataframe thead th {\n",
       "        text-align: right;\n",
       "    }\n",
       "</style>\n",
       "<table border=\"1\" class=\"dataframe\">\n",
       "  <thead>\n",
       "    <tr style=\"text-align: right;\">\n",
       "      <th></th>\n",
       "      <th>Unnamed: 0</th>\n",
       "      <th>mpg</th>\n",
       "      <th>cylinders</th>\n",
       "      <th>displacement</th>\n",
       "      <th>horsepower</th>\n",
       "      <th>weight</th>\n",
       "      <th>acceleration</th>\n",
       "      <th>model year</th>\n",
       "      <th>origin</th>\n",
       "    </tr>\n",
       "  </thead>\n",
       "  <tbody>\n",
       "    <tr>\n",
       "      <th>0</th>\n",
       "      <td>0</td>\n",
       "      <td>18.0</td>\n",
       "      <td>8</td>\n",
       "      <td>307.0</td>\n",
       "      <td>130.0</td>\n",
       "      <td>3504</td>\n",
       "      <td>12.0</td>\n",
       "      <td>70</td>\n",
       "      <td>1</td>\n",
       "    </tr>\n",
       "    <tr>\n",
       "      <th>1</th>\n",
       "      <td>1</td>\n",
       "      <td>15.0</td>\n",
       "      <td>8</td>\n",
       "      <td>350.0</td>\n",
       "      <td>165.0</td>\n",
       "      <td>3693</td>\n",
       "      <td>11.5</td>\n",
       "      <td>70</td>\n",
       "      <td>1</td>\n",
       "    </tr>\n",
       "    <tr>\n",
       "      <th>2</th>\n",
       "      <td>2</td>\n",
       "      <td>18.0</td>\n",
       "      <td>8</td>\n",
       "      <td>318.0</td>\n",
       "      <td>150.0</td>\n",
       "      <td>3436</td>\n",
       "      <td>11.0</td>\n",
       "      <td>70</td>\n",
       "      <td>1</td>\n",
       "    </tr>\n",
       "    <tr>\n",
       "      <th>3</th>\n",
       "      <td>3</td>\n",
       "      <td>16.0</td>\n",
       "      <td>8</td>\n",
       "      <td>304.0</td>\n",
       "      <td>150.0</td>\n",
       "      <td>3433</td>\n",
       "      <td>12.0</td>\n",
       "      <td>70</td>\n",
       "      <td>1</td>\n",
       "    </tr>\n",
       "    <tr>\n",
       "      <th>4</th>\n",
       "      <td>4</td>\n",
       "      <td>17.0</td>\n",
       "      <td>8</td>\n",
       "      <td>302.0</td>\n",
       "      <td>140.0</td>\n",
       "      <td>3449</td>\n",
       "      <td>10.5</td>\n",
       "      <td>70</td>\n",
       "      <td>1</td>\n",
       "    </tr>\n",
       "    <tr>\n",
       "      <th>5</th>\n",
       "      <td>5</td>\n",
       "      <td>15.0</td>\n",
       "      <td>8</td>\n",
       "      <td>429.0</td>\n",
       "      <td>198.0</td>\n",
       "      <td>4341</td>\n",
       "      <td>10.0</td>\n",
       "      <td>70</td>\n",
       "      <td>1</td>\n",
       "    </tr>\n",
       "    <tr>\n",
       "      <th>6</th>\n",
       "      <td>6</td>\n",
       "      <td>14.0</td>\n",
       "      <td>8</td>\n",
       "      <td>454.0</td>\n",
       "      <td>220.0</td>\n",
       "      <td>4354</td>\n",
       "      <td>9.0</td>\n",
       "      <td>70</td>\n",
       "      <td>1</td>\n",
       "    </tr>\n",
       "    <tr>\n",
       "      <th>7</th>\n",
       "      <td>7</td>\n",
       "      <td>14.0</td>\n",
       "      <td>8</td>\n",
       "      <td>440.0</td>\n",
       "      <td>215.0</td>\n",
       "      <td>4312</td>\n",
       "      <td>8.5</td>\n",
       "      <td>70</td>\n",
       "      <td>1</td>\n",
       "    </tr>\n",
       "    <tr>\n",
       "      <th>8</th>\n",
       "      <td>8</td>\n",
       "      <td>14.0</td>\n",
       "      <td>8</td>\n",
       "      <td>455.0</td>\n",
       "      <td>225.0</td>\n",
       "      <td>4425</td>\n",
       "      <td>10.0</td>\n",
       "      <td>70</td>\n",
       "      <td>1</td>\n",
       "    </tr>\n",
       "    <tr>\n",
       "      <th>9</th>\n",
       "      <td>9</td>\n",
       "      <td>15.0</td>\n",
       "      <td>8</td>\n",
       "      <td>390.0</td>\n",
       "      <td>190.0</td>\n",
       "      <td>3850</td>\n",
       "      <td>8.5</td>\n",
       "      <td>70</td>\n",
       "      <td>1</td>\n",
       "    </tr>\n",
       "    <tr>\n",
       "      <th>10</th>\n",
       "      <td>10</td>\n",
       "      <td>15.0</td>\n",
       "      <td>8</td>\n",
       "      <td>383.0</td>\n",
       "      <td>170.0</td>\n",
       "      <td>3563</td>\n",
       "      <td>10.0</td>\n",
       "      <td>70</td>\n",
       "      <td>1</td>\n",
       "    </tr>\n",
       "    <tr>\n",
       "      <th>11</th>\n",
       "      <td>11</td>\n",
       "      <td>14.0</td>\n",
       "      <td>8</td>\n",
       "      <td>340.0</td>\n",
       "      <td>160.0</td>\n",
       "      <td>3609</td>\n",
       "      <td>8.0</td>\n",
       "      <td>70</td>\n",
       "      <td>1</td>\n",
       "    </tr>\n",
       "    <tr>\n",
       "      <th>12</th>\n",
       "      <td>12</td>\n",
       "      <td>15.0</td>\n",
       "      <td>8</td>\n",
       "      <td>400.0</td>\n",
       "      <td>150.0</td>\n",
       "      <td>3761</td>\n",
       "      <td>9.5</td>\n",
       "      <td>70</td>\n",
       "      <td>1</td>\n",
       "    </tr>\n",
       "    <tr>\n",
       "      <th>13</th>\n",
       "      <td>13</td>\n",
       "      <td>14.0</td>\n",
       "      <td>8</td>\n",
       "      <td>455.0</td>\n",
       "      <td>225.0</td>\n",
       "      <td>3086</td>\n",
       "      <td>10.0</td>\n",
       "      <td>70</td>\n",
       "      <td>1</td>\n",
       "    </tr>\n",
       "    <tr>\n",
       "      <th>14</th>\n",
       "      <td>14</td>\n",
       "      <td>24.0</td>\n",
       "      <td>4</td>\n",
       "      <td>113.0</td>\n",
       "      <td>95.0</td>\n",
       "      <td>2372</td>\n",
       "      <td>15.0</td>\n",
       "      <td>70</td>\n",
       "      <td>3</td>\n",
       "    </tr>\n",
       "    <tr>\n",
       "      <th>15</th>\n",
       "      <td>15</td>\n",
       "      <td>22.0</td>\n",
       "      <td>6</td>\n",
       "      <td>198.0</td>\n",
       "      <td>95.0</td>\n",
       "      <td>2833</td>\n",
       "      <td>15.5</td>\n",
       "      <td>70</td>\n",
       "      <td>1</td>\n",
       "    </tr>\n",
       "    <tr>\n",
       "      <th>16</th>\n",
       "      <td>16</td>\n",
       "      <td>18.0</td>\n",
       "      <td>6</td>\n",
       "      <td>199.0</td>\n",
       "      <td>97.0</td>\n",
       "      <td>2774</td>\n",
       "      <td>15.5</td>\n",
       "      <td>70</td>\n",
       "      <td>1</td>\n",
       "    </tr>\n",
       "    <tr>\n",
       "      <th>17</th>\n",
       "      <td>17</td>\n",
       "      <td>21.0</td>\n",
       "      <td>6</td>\n",
       "      <td>200.0</td>\n",
       "      <td>85.0</td>\n",
       "      <td>2587</td>\n",
       "      <td>16.0</td>\n",
       "      <td>70</td>\n",
       "      <td>1</td>\n",
       "    </tr>\n",
       "    <tr>\n",
       "      <th>18</th>\n",
       "      <td>18</td>\n",
       "      <td>27.0</td>\n",
       "      <td>4</td>\n",
       "      <td>97.0</td>\n",
       "      <td>88.0</td>\n",
       "      <td>2130</td>\n",
       "      <td>14.5</td>\n",
       "      <td>70</td>\n",
       "      <td>3</td>\n",
       "    </tr>\n",
       "    <tr>\n",
       "      <th>19</th>\n",
       "      <td>19</td>\n",
       "      <td>26.0</td>\n",
       "      <td>4</td>\n",
       "      <td>97.0</td>\n",
       "      <td>46.0</td>\n",
       "      <td>1835</td>\n",
       "      <td>20.5</td>\n",
       "      <td>70</td>\n",
       "      <td>2</td>\n",
       "    </tr>\n",
       "  </tbody>\n",
       "</table>\n",
       "</div>"
      ],
      "text/plain": [
       "    Unnamed: 0   mpg  cylinders  displacement  horsepower  weight  \\\n",
       "0            0  18.0          8         307.0       130.0    3504   \n",
       "1            1  15.0          8         350.0       165.0    3693   \n",
       "2            2  18.0          8         318.0       150.0    3436   \n",
       "3            3  16.0          8         304.0       150.0    3433   \n",
       "4            4  17.0          8         302.0       140.0    3449   \n",
       "5            5  15.0          8         429.0       198.0    4341   \n",
       "6            6  14.0          8         454.0       220.0    4354   \n",
       "7            7  14.0          8         440.0       215.0    4312   \n",
       "8            8  14.0          8         455.0       225.0    4425   \n",
       "9            9  15.0          8         390.0       190.0    3850   \n",
       "10          10  15.0          8         383.0       170.0    3563   \n",
       "11          11  14.0          8         340.0       160.0    3609   \n",
       "12          12  15.0          8         400.0       150.0    3761   \n",
       "13          13  14.0          8         455.0       225.0    3086   \n",
       "14          14  24.0          4         113.0        95.0    2372   \n",
       "15          15  22.0          6         198.0        95.0    2833   \n",
       "16          16  18.0          6         199.0        97.0    2774   \n",
       "17          17  21.0          6         200.0        85.0    2587   \n",
       "18          18  27.0          4          97.0        88.0    2130   \n",
       "19          19  26.0          4          97.0        46.0    1835   \n",
       "\n",
       "    acceleration  model year  origin  \n",
       "0           12.0          70       1  \n",
       "1           11.5          70       1  \n",
       "2           11.0          70       1  \n",
       "3           12.0          70       1  \n",
       "4           10.5          70       1  \n",
       "5           10.0          70       1  \n",
       "6            9.0          70       1  \n",
       "7            8.5          70       1  \n",
       "8           10.0          70       1  \n",
       "9            8.5          70       1  \n",
       "10          10.0          70       1  \n",
       "11           8.0          70       1  \n",
       "12           9.5          70       1  \n",
       "13          10.0          70       1  \n",
       "14          15.0          70       3  \n",
       "15          15.5          70       1  \n",
       "16          15.5          70       1  \n",
       "17          16.0          70       1  \n",
       "18          14.5          70       3  \n",
       "19          20.5          70       2  "
      ]
     },
     "execution_count": 630,
     "metadata": {},
     "output_type": "execute_result"
    }
   ],
   "source": [
    "car.head(20)"
   ]
  },
  {
   "cell_type": "code",
   "execution_count": 631,
   "id": "906ef543",
   "metadata": {},
   "outputs": [
    {
     "name": "stdout",
     "output_type": "stream",
     "text": [
      "<class 'pandas.core.frame.DataFrame'>\n",
      "RangeIndex: 398 entries, 0 to 397\n",
      "Data columns (total 9 columns):\n",
      " #   Column        Non-Null Count  Dtype  \n",
      "---  ------        --------------  -----  \n",
      " 0   Unnamed: 0    398 non-null    int64  \n",
      " 1   mpg           398 non-null    float64\n",
      " 2   cylinders     398 non-null    int64  \n",
      " 3   displacement  398 non-null    float64\n",
      " 4   horsepower    398 non-null    float64\n",
      " 5   weight        398 non-null    int64  \n",
      " 6   acceleration  398 non-null    float64\n",
      " 7   model year    398 non-null    int64  \n",
      " 8   origin        398 non-null    int64  \n",
      "dtypes: float64(4), int64(5)\n",
      "memory usage: 28.1 KB\n"
     ]
    }
   ],
   "source": [
    "car.info()"
   ]
  },
  {
   "cell_type": "code",
   "execution_count": 632,
   "id": "74f7b48b",
   "metadata": {},
   "outputs": [],
   "source": [
    "car = car.drop(['Unnamed: 0'], axis = 1)"
   ]
  },
  {
   "cell_type": "code",
   "execution_count": 633,
   "id": "6d832a6a",
   "metadata": {},
   "outputs": [
    {
     "data": {
      "text/plain": [
       "mpg             0\n",
       "cylinders       0\n",
       "displacement    0\n",
       "horsepower      0\n",
       "weight          0\n",
       "acceleration    0\n",
       "model year      0\n",
       "origin          0\n",
       "dtype: int64"
      ]
     },
     "execution_count": 633,
     "metadata": {},
     "output_type": "execute_result"
    }
   ],
   "source": [
    "car.isnull().sum()"
   ]
  },
  {
   "cell_type": "code",
   "execution_count": 634,
   "id": "91469a54",
   "metadata": {},
   "outputs": [],
   "source": [
    "car['origin'] = car['origin'].map({1: 'USA', 2: 'Europe', 3: 'Japan'})\n",
    "car = pd.get_dummies(car, columns=['origin'], prefix='', prefix_sep='')\n",
    "car_dataset = car.drop(['USA'], axis = 1)"
   ]
  },
  {
   "cell_type": "code",
   "execution_count": 635,
   "id": "bab103bf",
   "metadata": {},
   "outputs": [
    {
     "data": {
      "text/html": [
       "<div>\n",
       "<style scoped>\n",
       "    .dataframe tbody tr th:only-of-type {\n",
       "        vertical-align: middle;\n",
       "    }\n",
       "\n",
       "    .dataframe tbody tr th {\n",
       "        vertical-align: top;\n",
       "    }\n",
       "\n",
       "    .dataframe thead th {\n",
       "        text-align: right;\n",
       "    }\n",
       "</style>\n",
       "<table border=\"1\" class=\"dataframe\">\n",
       "  <thead>\n",
       "    <tr style=\"text-align: right;\">\n",
       "      <th></th>\n",
       "      <th>mpg</th>\n",
       "      <th>cylinders</th>\n",
       "      <th>displacement</th>\n",
       "      <th>horsepower</th>\n",
       "      <th>weight</th>\n",
       "      <th>acceleration</th>\n",
       "      <th>model year</th>\n",
       "      <th>Europe</th>\n",
       "      <th>Japan</th>\n",
       "    </tr>\n",
       "  </thead>\n",
       "  <tbody>\n",
       "    <tr>\n",
       "      <th>0</th>\n",
       "      <td>18.0</td>\n",
       "      <td>8</td>\n",
       "      <td>307.0</td>\n",
       "      <td>130.0</td>\n",
       "      <td>3504</td>\n",
       "      <td>12.0</td>\n",
       "      <td>70</td>\n",
       "      <td>0</td>\n",
       "      <td>0</td>\n",
       "    </tr>\n",
       "    <tr>\n",
       "      <th>1</th>\n",
       "      <td>15.0</td>\n",
       "      <td>8</td>\n",
       "      <td>350.0</td>\n",
       "      <td>165.0</td>\n",
       "      <td>3693</td>\n",
       "      <td>11.5</td>\n",
       "      <td>70</td>\n",
       "      <td>0</td>\n",
       "      <td>0</td>\n",
       "    </tr>\n",
       "    <tr>\n",
       "      <th>2</th>\n",
       "      <td>18.0</td>\n",
       "      <td>8</td>\n",
       "      <td>318.0</td>\n",
       "      <td>150.0</td>\n",
       "      <td>3436</td>\n",
       "      <td>11.0</td>\n",
       "      <td>70</td>\n",
       "      <td>0</td>\n",
       "      <td>0</td>\n",
       "    </tr>\n",
       "    <tr>\n",
       "      <th>3</th>\n",
       "      <td>16.0</td>\n",
       "      <td>8</td>\n",
       "      <td>304.0</td>\n",
       "      <td>150.0</td>\n",
       "      <td>3433</td>\n",
       "      <td>12.0</td>\n",
       "      <td>70</td>\n",
       "      <td>0</td>\n",
       "      <td>0</td>\n",
       "    </tr>\n",
       "    <tr>\n",
       "      <th>4</th>\n",
       "      <td>17.0</td>\n",
       "      <td>8</td>\n",
       "      <td>302.0</td>\n",
       "      <td>140.0</td>\n",
       "      <td>3449</td>\n",
       "      <td>10.5</td>\n",
       "      <td>70</td>\n",
       "      <td>0</td>\n",
       "      <td>0</td>\n",
       "    </tr>\n",
       "    <tr>\n",
       "      <th>5</th>\n",
       "      <td>15.0</td>\n",
       "      <td>8</td>\n",
       "      <td>429.0</td>\n",
       "      <td>198.0</td>\n",
       "      <td>4341</td>\n",
       "      <td>10.0</td>\n",
       "      <td>70</td>\n",
       "      <td>0</td>\n",
       "      <td>0</td>\n",
       "    </tr>\n",
       "    <tr>\n",
       "      <th>6</th>\n",
       "      <td>14.0</td>\n",
       "      <td>8</td>\n",
       "      <td>454.0</td>\n",
       "      <td>220.0</td>\n",
       "      <td>4354</td>\n",
       "      <td>9.0</td>\n",
       "      <td>70</td>\n",
       "      <td>0</td>\n",
       "      <td>0</td>\n",
       "    </tr>\n",
       "    <tr>\n",
       "      <th>7</th>\n",
       "      <td>14.0</td>\n",
       "      <td>8</td>\n",
       "      <td>440.0</td>\n",
       "      <td>215.0</td>\n",
       "      <td>4312</td>\n",
       "      <td>8.5</td>\n",
       "      <td>70</td>\n",
       "      <td>0</td>\n",
       "      <td>0</td>\n",
       "    </tr>\n",
       "    <tr>\n",
       "      <th>8</th>\n",
       "      <td>14.0</td>\n",
       "      <td>8</td>\n",
       "      <td>455.0</td>\n",
       "      <td>225.0</td>\n",
       "      <td>4425</td>\n",
       "      <td>10.0</td>\n",
       "      <td>70</td>\n",
       "      <td>0</td>\n",
       "      <td>0</td>\n",
       "    </tr>\n",
       "    <tr>\n",
       "      <th>9</th>\n",
       "      <td>15.0</td>\n",
       "      <td>8</td>\n",
       "      <td>390.0</td>\n",
       "      <td>190.0</td>\n",
       "      <td>3850</td>\n",
       "      <td>8.5</td>\n",
       "      <td>70</td>\n",
       "      <td>0</td>\n",
       "      <td>0</td>\n",
       "    </tr>\n",
       "    <tr>\n",
       "      <th>10</th>\n",
       "      <td>15.0</td>\n",
       "      <td>8</td>\n",
       "      <td>383.0</td>\n",
       "      <td>170.0</td>\n",
       "      <td>3563</td>\n",
       "      <td>10.0</td>\n",
       "      <td>70</td>\n",
       "      <td>0</td>\n",
       "      <td>0</td>\n",
       "    </tr>\n",
       "    <tr>\n",
       "      <th>11</th>\n",
       "      <td>14.0</td>\n",
       "      <td>8</td>\n",
       "      <td>340.0</td>\n",
       "      <td>160.0</td>\n",
       "      <td>3609</td>\n",
       "      <td>8.0</td>\n",
       "      <td>70</td>\n",
       "      <td>0</td>\n",
       "      <td>0</td>\n",
       "    </tr>\n",
       "    <tr>\n",
       "      <th>12</th>\n",
       "      <td>15.0</td>\n",
       "      <td>8</td>\n",
       "      <td>400.0</td>\n",
       "      <td>150.0</td>\n",
       "      <td>3761</td>\n",
       "      <td>9.5</td>\n",
       "      <td>70</td>\n",
       "      <td>0</td>\n",
       "      <td>0</td>\n",
       "    </tr>\n",
       "    <tr>\n",
       "      <th>13</th>\n",
       "      <td>14.0</td>\n",
       "      <td>8</td>\n",
       "      <td>455.0</td>\n",
       "      <td>225.0</td>\n",
       "      <td>3086</td>\n",
       "      <td>10.0</td>\n",
       "      <td>70</td>\n",
       "      <td>0</td>\n",
       "      <td>0</td>\n",
       "    </tr>\n",
       "    <tr>\n",
       "      <th>14</th>\n",
       "      <td>24.0</td>\n",
       "      <td>4</td>\n",
       "      <td>113.0</td>\n",
       "      <td>95.0</td>\n",
       "      <td>2372</td>\n",
       "      <td>15.0</td>\n",
       "      <td>70</td>\n",
       "      <td>0</td>\n",
       "      <td>1</td>\n",
       "    </tr>\n",
       "    <tr>\n",
       "      <th>15</th>\n",
       "      <td>22.0</td>\n",
       "      <td>6</td>\n",
       "      <td>198.0</td>\n",
       "      <td>95.0</td>\n",
       "      <td>2833</td>\n",
       "      <td>15.5</td>\n",
       "      <td>70</td>\n",
       "      <td>0</td>\n",
       "      <td>0</td>\n",
       "    </tr>\n",
       "    <tr>\n",
       "      <th>16</th>\n",
       "      <td>18.0</td>\n",
       "      <td>6</td>\n",
       "      <td>199.0</td>\n",
       "      <td>97.0</td>\n",
       "      <td>2774</td>\n",
       "      <td>15.5</td>\n",
       "      <td>70</td>\n",
       "      <td>0</td>\n",
       "      <td>0</td>\n",
       "    </tr>\n",
       "    <tr>\n",
       "      <th>17</th>\n",
       "      <td>21.0</td>\n",
       "      <td>6</td>\n",
       "      <td>200.0</td>\n",
       "      <td>85.0</td>\n",
       "      <td>2587</td>\n",
       "      <td>16.0</td>\n",
       "      <td>70</td>\n",
       "      <td>0</td>\n",
       "      <td>0</td>\n",
       "    </tr>\n",
       "    <tr>\n",
       "      <th>18</th>\n",
       "      <td>27.0</td>\n",
       "      <td>4</td>\n",
       "      <td>97.0</td>\n",
       "      <td>88.0</td>\n",
       "      <td>2130</td>\n",
       "      <td>14.5</td>\n",
       "      <td>70</td>\n",
       "      <td>0</td>\n",
       "      <td>1</td>\n",
       "    </tr>\n",
       "    <tr>\n",
       "      <th>19</th>\n",
       "      <td>26.0</td>\n",
       "      <td>4</td>\n",
       "      <td>97.0</td>\n",
       "      <td>46.0</td>\n",
       "      <td>1835</td>\n",
       "      <td>20.5</td>\n",
       "      <td>70</td>\n",
       "      <td>1</td>\n",
       "      <td>0</td>\n",
       "    </tr>\n",
       "    <tr>\n",
       "      <th>20</th>\n",
       "      <td>25.0</td>\n",
       "      <td>4</td>\n",
       "      <td>110.0</td>\n",
       "      <td>87.0</td>\n",
       "      <td>2672</td>\n",
       "      <td>17.5</td>\n",
       "      <td>70</td>\n",
       "      <td>1</td>\n",
       "      <td>0</td>\n",
       "    </tr>\n",
       "    <tr>\n",
       "      <th>21</th>\n",
       "      <td>24.0</td>\n",
       "      <td>4</td>\n",
       "      <td>107.0</td>\n",
       "      <td>90.0</td>\n",
       "      <td>2430</td>\n",
       "      <td>14.5</td>\n",
       "      <td>70</td>\n",
       "      <td>1</td>\n",
       "      <td>0</td>\n",
       "    </tr>\n",
       "    <tr>\n",
       "      <th>22</th>\n",
       "      <td>25.0</td>\n",
       "      <td>4</td>\n",
       "      <td>104.0</td>\n",
       "      <td>95.0</td>\n",
       "      <td>2375</td>\n",
       "      <td>17.5</td>\n",
       "      <td>70</td>\n",
       "      <td>1</td>\n",
       "      <td>0</td>\n",
       "    </tr>\n",
       "    <tr>\n",
       "      <th>23</th>\n",
       "      <td>26.0</td>\n",
       "      <td>4</td>\n",
       "      <td>121.0</td>\n",
       "      <td>113.0</td>\n",
       "      <td>2234</td>\n",
       "      <td>12.5</td>\n",
       "      <td>70</td>\n",
       "      <td>1</td>\n",
       "      <td>0</td>\n",
       "    </tr>\n",
       "    <tr>\n",
       "      <th>24</th>\n",
       "      <td>21.0</td>\n",
       "      <td>6</td>\n",
       "      <td>199.0</td>\n",
       "      <td>90.0</td>\n",
       "      <td>2648</td>\n",
       "      <td>15.0</td>\n",
       "      <td>70</td>\n",
       "      <td>0</td>\n",
       "      <td>0</td>\n",
       "    </tr>\n",
       "    <tr>\n",
       "      <th>25</th>\n",
       "      <td>10.0</td>\n",
       "      <td>8</td>\n",
       "      <td>360.0</td>\n",
       "      <td>215.0</td>\n",
       "      <td>4615</td>\n",
       "      <td>14.0</td>\n",
       "      <td>70</td>\n",
       "      <td>0</td>\n",
       "      <td>0</td>\n",
       "    </tr>\n",
       "    <tr>\n",
       "      <th>26</th>\n",
       "      <td>10.0</td>\n",
       "      <td>8</td>\n",
       "      <td>307.0</td>\n",
       "      <td>200.0</td>\n",
       "      <td>4376</td>\n",
       "      <td>15.0</td>\n",
       "      <td>70</td>\n",
       "      <td>0</td>\n",
       "      <td>0</td>\n",
       "    </tr>\n",
       "    <tr>\n",
       "      <th>27</th>\n",
       "      <td>11.0</td>\n",
       "      <td>8</td>\n",
       "      <td>318.0</td>\n",
       "      <td>210.0</td>\n",
       "      <td>4382</td>\n",
       "      <td>13.5</td>\n",
       "      <td>70</td>\n",
       "      <td>0</td>\n",
       "      <td>0</td>\n",
       "    </tr>\n",
       "    <tr>\n",
       "      <th>28</th>\n",
       "      <td>9.0</td>\n",
       "      <td>8</td>\n",
       "      <td>304.0</td>\n",
       "      <td>193.0</td>\n",
       "      <td>4732</td>\n",
       "      <td>18.5</td>\n",
       "      <td>70</td>\n",
       "      <td>0</td>\n",
       "      <td>0</td>\n",
       "    </tr>\n",
       "    <tr>\n",
       "      <th>29</th>\n",
       "      <td>27.0</td>\n",
       "      <td>4</td>\n",
       "      <td>97.0</td>\n",
       "      <td>88.0</td>\n",
       "      <td>2130</td>\n",
       "      <td>14.5</td>\n",
       "      <td>71</td>\n",
       "      <td>0</td>\n",
       "      <td>1</td>\n",
       "    </tr>\n",
       "    <tr>\n",
       "      <th>30</th>\n",
       "      <td>28.0</td>\n",
       "      <td>4</td>\n",
       "      <td>140.0</td>\n",
       "      <td>90.0</td>\n",
       "      <td>2264</td>\n",
       "      <td>15.5</td>\n",
       "      <td>71</td>\n",
       "      <td>0</td>\n",
       "      <td>0</td>\n",
       "    </tr>\n",
       "    <tr>\n",
       "      <th>31</th>\n",
       "      <td>25.0</td>\n",
       "      <td>4</td>\n",
       "      <td>113.0</td>\n",
       "      <td>95.0</td>\n",
       "      <td>2228</td>\n",
       "      <td>14.0</td>\n",
       "      <td>71</td>\n",
       "      <td>0</td>\n",
       "      <td>1</td>\n",
       "    </tr>\n",
       "    <tr>\n",
       "      <th>32</th>\n",
       "      <td>25.0</td>\n",
       "      <td>4</td>\n",
       "      <td>98.0</td>\n",
       "      <td>93.5</td>\n",
       "      <td>2046</td>\n",
       "      <td>19.0</td>\n",
       "      <td>71</td>\n",
       "      <td>0</td>\n",
       "      <td>0</td>\n",
       "    </tr>\n",
       "    <tr>\n",
       "      <th>33</th>\n",
       "      <td>19.0</td>\n",
       "      <td>6</td>\n",
       "      <td>232.0</td>\n",
       "      <td>100.0</td>\n",
       "      <td>2634</td>\n",
       "      <td>13.0</td>\n",
       "      <td>71</td>\n",
       "      <td>0</td>\n",
       "      <td>0</td>\n",
       "    </tr>\n",
       "    <tr>\n",
       "      <th>34</th>\n",
       "      <td>16.0</td>\n",
       "      <td>6</td>\n",
       "      <td>225.0</td>\n",
       "      <td>105.0</td>\n",
       "      <td>3439</td>\n",
       "      <td>15.5</td>\n",
       "      <td>71</td>\n",
       "      <td>0</td>\n",
       "      <td>0</td>\n",
       "    </tr>\n",
       "    <tr>\n",
       "      <th>35</th>\n",
       "      <td>17.0</td>\n",
       "      <td>6</td>\n",
       "      <td>250.0</td>\n",
       "      <td>100.0</td>\n",
       "      <td>3329</td>\n",
       "      <td>15.5</td>\n",
       "      <td>71</td>\n",
       "      <td>0</td>\n",
       "      <td>0</td>\n",
       "    </tr>\n",
       "    <tr>\n",
       "      <th>36</th>\n",
       "      <td>19.0</td>\n",
       "      <td>6</td>\n",
       "      <td>250.0</td>\n",
       "      <td>88.0</td>\n",
       "      <td>3302</td>\n",
       "      <td>15.5</td>\n",
       "      <td>71</td>\n",
       "      <td>0</td>\n",
       "      <td>0</td>\n",
       "    </tr>\n",
       "    <tr>\n",
       "      <th>37</th>\n",
       "      <td>18.0</td>\n",
       "      <td>6</td>\n",
       "      <td>232.0</td>\n",
       "      <td>100.0</td>\n",
       "      <td>3288</td>\n",
       "      <td>15.5</td>\n",
       "      <td>71</td>\n",
       "      <td>0</td>\n",
       "      <td>0</td>\n",
       "    </tr>\n",
       "    <tr>\n",
       "      <th>38</th>\n",
       "      <td>14.0</td>\n",
       "      <td>8</td>\n",
       "      <td>350.0</td>\n",
       "      <td>165.0</td>\n",
       "      <td>4209</td>\n",
       "      <td>12.0</td>\n",
       "      <td>71</td>\n",
       "      <td>0</td>\n",
       "      <td>0</td>\n",
       "    </tr>\n",
       "    <tr>\n",
       "      <th>39</th>\n",
       "      <td>14.0</td>\n",
       "      <td>8</td>\n",
       "      <td>400.0</td>\n",
       "      <td>175.0</td>\n",
       "      <td>4464</td>\n",
       "      <td>11.5</td>\n",
       "      <td>71</td>\n",
       "      <td>0</td>\n",
       "      <td>0</td>\n",
       "    </tr>\n",
       "    <tr>\n",
       "      <th>40</th>\n",
       "      <td>14.0</td>\n",
       "      <td>8</td>\n",
       "      <td>351.0</td>\n",
       "      <td>153.0</td>\n",
       "      <td>4154</td>\n",
       "      <td>13.5</td>\n",
       "      <td>71</td>\n",
       "      <td>0</td>\n",
       "      <td>0</td>\n",
       "    </tr>\n",
       "    <tr>\n",
       "      <th>41</th>\n",
       "      <td>14.0</td>\n",
       "      <td>8</td>\n",
       "      <td>318.0</td>\n",
       "      <td>150.0</td>\n",
       "      <td>4096</td>\n",
       "      <td>13.0</td>\n",
       "      <td>71</td>\n",
       "      <td>0</td>\n",
       "      <td>0</td>\n",
       "    </tr>\n",
       "    <tr>\n",
       "      <th>42</th>\n",
       "      <td>12.0</td>\n",
       "      <td>8</td>\n",
       "      <td>383.0</td>\n",
       "      <td>180.0</td>\n",
       "      <td>4955</td>\n",
       "      <td>11.5</td>\n",
       "      <td>71</td>\n",
       "      <td>0</td>\n",
       "      <td>0</td>\n",
       "    </tr>\n",
       "    <tr>\n",
       "      <th>43</th>\n",
       "      <td>13.0</td>\n",
       "      <td>8</td>\n",
       "      <td>400.0</td>\n",
       "      <td>170.0</td>\n",
       "      <td>4746</td>\n",
       "      <td>12.0</td>\n",
       "      <td>71</td>\n",
       "      <td>0</td>\n",
       "      <td>0</td>\n",
       "    </tr>\n",
       "    <tr>\n",
       "      <th>44</th>\n",
       "      <td>13.0</td>\n",
       "      <td>8</td>\n",
       "      <td>400.0</td>\n",
       "      <td>175.0</td>\n",
       "      <td>5140</td>\n",
       "      <td>12.0</td>\n",
       "      <td>71</td>\n",
       "      <td>0</td>\n",
       "      <td>0</td>\n",
       "    </tr>\n",
       "    <tr>\n",
       "      <th>45</th>\n",
       "      <td>18.0</td>\n",
       "      <td>6</td>\n",
       "      <td>258.0</td>\n",
       "      <td>110.0</td>\n",
       "      <td>2962</td>\n",
       "      <td>13.5</td>\n",
       "      <td>71</td>\n",
       "      <td>0</td>\n",
       "      <td>0</td>\n",
       "    </tr>\n",
       "    <tr>\n",
       "      <th>46</th>\n",
       "      <td>22.0</td>\n",
       "      <td>4</td>\n",
       "      <td>140.0</td>\n",
       "      <td>72.0</td>\n",
       "      <td>2408</td>\n",
       "      <td>19.0</td>\n",
       "      <td>71</td>\n",
       "      <td>0</td>\n",
       "      <td>0</td>\n",
       "    </tr>\n",
       "    <tr>\n",
       "      <th>47</th>\n",
       "      <td>19.0</td>\n",
       "      <td>6</td>\n",
       "      <td>250.0</td>\n",
       "      <td>100.0</td>\n",
       "      <td>3282</td>\n",
       "      <td>15.0</td>\n",
       "      <td>71</td>\n",
       "      <td>0</td>\n",
       "      <td>0</td>\n",
       "    </tr>\n",
       "    <tr>\n",
       "      <th>48</th>\n",
       "      <td>18.0</td>\n",
       "      <td>6</td>\n",
       "      <td>250.0</td>\n",
       "      <td>88.0</td>\n",
       "      <td>3139</td>\n",
       "      <td>14.5</td>\n",
       "      <td>71</td>\n",
       "      <td>0</td>\n",
       "      <td>0</td>\n",
       "    </tr>\n",
       "    <tr>\n",
       "      <th>49</th>\n",
       "      <td>23.0</td>\n",
       "      <td>4</td>\n",
       "      <td>122.0</td>\n",
       "      <td>86.0</td>\n",
       "      <td>2220</td>\n",
       "      <td>14.0</td>\n",
       "      <td>71</td>\n",
       "      <td>0</td>\n",
       "      <td>0</td>\n",
       "    </tr>\n",
       "  </tbody>\n",
       "</table>\n",
       "</div>"
      ],
      "text/plain": [
       "     mpg  cylinders  displacement  horsepower  weight  acceleration  \\\n",
       "0   18.0          8         307.0       130.0    3504          12.0   \n",
       "1   15.0          8         350.0       165.0    3693          11.5   \n",
       "2   18.0          8         318.0       150.0    3436          11.0   \n",
       "3   16.0          8         304.0       150.0    3433          12.0   \n",
       "4   17.0          8         302.0       140.0    3449          10.5   \n",
       "5   15.0          8         429.0       198.0    4341          10.0   \n",
       "6   14.0          8         454.0       220.0    4354           9.0   \n",
       "7   14.0          8         440.0       215.0    4312           8.5   \n",
       "8   14.0          8         455.0       225.0    4425          10.0   \n",
       "9   15.0          8         390.0       190.0    3850           8.5   \n",
       "10  15.0          8         383.0       170.0    3563          10.0   \n",
       "11  14.0          8         340.0       160.0    3609           8.0   \n",
       "12  15.0          8         400.0       150.0    3761           9.5   \n",
       "13  14.0          8         455.0       225.0    3086          10.0   \n",
       "14  24.0          4         113.0        95.0    2372          15.0   \n",
       "15  22.0          6         198.0        95.0    2833          15.5   \n",
       "16  18.0          6         199.0        97.0    2774          15.5   \n",
       "17  21.0          6         200.0        85.0    2587          16.0   \n",
       "18  27.0          4          97.0        88.0    2130          14.5   \n",
       "19  26.0          4          97.0        46.0    1835          20.5   \n",
       "20  25.0          4         110.0        87.0    2672          17.5   \n",
       "21  24.0          4         107.0        90.0    2430          14.5   \n",
       "22  25.0          4         104.0        95.0    2375          17.5   \n",
       "23  26.0          4         121.0       113.0    2234          12.5   \n",
       "24  21.0          6         199.0        90.0    2648          15.0   \n",
       "25  10.0          8         360.0       215.0    4615          14.0   \n",
       "26  10.0          8         307.0       200.0    4376          15.0   \n",
       "27  11.0          8         318.0       210.0    4382          13.5   \n",
       "28   9.0          8         304.0       193.0    4732          18.5   \n",
       "29  27.0          4          97.0        88.0    2130          14.5   \n",
       "30  28.0          4         140.0        90.0    2264          15.5   \n",
       "31  25.0          4         113.0        95.0    2228          14.0   \n",
       "32  25.0          4          98.0        93.5    2046          19.0   \n",
       "33  19.0          6         232.0       100.0    2634          13.0   \n",
       "34  16.0          6         225.0       105.0    3439          15.5   \n",
       "35  17.0          6         250.0       100.0    3329          15.5   \n",
       "36  19.0          6         250.0        88.0    3302          15.5   \n",
       "37  18.0          6         232.0       100.0    3288          15.5   \n",
       "38  14.0          8         350.0       165.0    4209          12.0   \n",
       "39  14.0          8         400.0       175.0    4464          11.5   \n",
       "40  14.0          8         351.0       153.0    4154          13.5   \n",
       "41  14.0          8         318.0       150.0    4096          13.0   \n",
       "42  12.0          8         383.0       180.0    4955          11.5   \n",
       "43  13.0          8         400.0       170.0    4746          12.0   \n",
       "44  13.0          8         400.0       175.0    5140          12.0   \n",
       "45  18.0          6         258.0       110.0    2962          13.5   \n",
       "46  22.0          4         140.0        72.0    2408          19.0   \n",
       "47  19.0          6         250.0       100.0    3282          15.0   \n",
       "48  18.0          6         250.0        88.0    3139          14.5   \n",
       "49  23.0          4         122.0        86.0    2220          14.0   \n",
       "\n",
       "    model year  Europe  Japan  \n",
       "0           70       0      0  \n",
       "1           70       0      0  \n",
       "2           70       0      0  \n",
       "3           70       0      0  \n",
       "4           70       0      0  \n",
       "5           70       0      0  \n",
       "6           70       0      0  \n",
       "7           70       0      0  \n",
       "8           70       0      0  \n",
       "9           70       0      0  \n",
       "10          70       0      0  \n",
       "11          70       0      0  \n",
       "12          70       0      0  \n",
       "13          70       0      0  \n",
       "14          70       0      1  \n",
       "15          70       0      0  \n",
       "16          70       0      0  \n",
       "17          70       0      0  \n",
       "18          70       0      1  \n",
       "19          70       1      0  \n",
       "20          70       1      0  \n",
       "21          70       1      0  \n",
       "22          70       1      0  \n",
       "23          70       1      0  \n",
       "24          70       0      0  \n",
       "25          70       0      0  \n",
       "26          70       0      0  \n",
       "27          70       0      0  \n",
       "28          70       0      0  \n",
       "29          71       0      1  \n",
       "30          71       0      0  \n",
       "31          71       0      1  \n",
       "32          71       0      0  \n",
       "33          71       0      0  \n",
       "34          71       0      0  \n",
       "35          71       0      0  \n",
       "36          71       0      0  \n",
       "37          71       0      0  \n",
       "38          71       0      0  \n",
       "39          71       0      0  \n",
       "40          71       0      0  \n",
       "41          71       0      0  \n",
       "42          71       0      0  \n",
       "43          71       0      0  \n",
       "44          71       0      0  \n",
       "45          71       0      0  \n",
       "46          71       0      0  \n",
       "47          71       0      0  \n",
       "48          71       0      0  \n",
       "49          71       0      0  "
      ]
     },
     "execution_count": 635,
     "metadata": {},
     "output_type": "execute_result"
    }
   ],
   "source": [
    "car_dataset.head(50)"
   ]
  },
  {
   "cell_type": "markdown",
   "id": "52b7b87b",
   "metadata": {},
   "source": [
    "# Question1"
   ]
  },
  {
   "cell_type": "code",
   "execution_count": 636,
   "id": "8df0e806",
   "metadata": {},
   "outputs": [],
   "source": [
    "X = car_dataset.drop('mpg',axis=1)\n",
    "y = car_dataset['mpg']"
   ]
  },
  {
   "cell_type": "markdown",
   "id": "1b87434b",
   "metadata": {},
   "source": [
    "80% training and 20% test"
   ]
  },
  {
   "cell_type": "code",
   "execution_count": 637,
   "id": "81d50d17",
   "metadata": {},
   "outputs": [],
   "source": [
    "X_train, X_test, y_train, y_test = train_test_split(X, y, test_size=0.20, random_state=42)"
   ]
  },
  {
   "cell_type": "code",
   "execution_count": 638,
   "id": "431333c8",
   "metadata": {},
   "outputs": [
    {
     "data": {
      "text/plain": [
       "Lasso(alpha=1)"
      ]
     },
     "execution_count": 638,
     "metadata": {},
     "output_type": "execute_result"
    }
   ],
   "source": [
    "lasso_model1 = Lasso(alpha=1)\n",
    "lasso_model1.fit(X_train, y_train)"
   ]
  },
  {
   "cell_type": "markdown",
   "id": "4fbf2860",
   "metadata": {},
   "source": [
    "Lasso_model1"
   ]
  },
  {
   "cell_type": "code",
   "execution_count": 639,
   "id": "a959d49b",
   "metadata": {},
   "outputs": [
    {
     "data": {
      "text/plain": [
       "array([ 0.        , -0.        , -0.00532359, -0.00665824,  0.        ,\n",
       "        0.704171  ,  0.        ,  0.        ])"
      ]
     },
     "execution_count": 639,
     "metadata": {},
     "output_type": "execute_result"
    }
   ],
   "source": [
    "lasso_model1.coef_"
   ]
  },
  {
   "cell_type": "markdown",
   "id": "5f4360a6",
   "metadata": {},
   "source": [
    "20% training and 80% test"
   ]
  },
  {
   "cell_type": "code",
   "execution_count": 640,
   "id": "fe4dba2a",
   "metadata": {},
   "outputs": [],
   "source": [
    "X = car_dataset.drop('mpg',axis=1)\n",
    "y = car_dataset['mpg']"
   ]
  },
  {
   "cell_type": "code",
   "execution_count": 641,
   "id": "45d73f2e",
   "metadata": {},
   "outputs": [],
   "source": [
    "X_train, X_test, y_train, y_test = train_test_split(X, y, test_size=0.80, random_state=42)"
   ]
  },
  {
   "cell_type": "code",
   "execution_count": 642,
   "id": "932b227e",
   "metadata": {},
   "outputs": [
    {
     "data": {
      "text/plain": [
       "Lasso(alpha=1)"
      ]
     },
     "execution_count": 642,
     "metadata": {},
     "output_type": "execute_result"
    }
   ],
   "source": [
    "lasso_model2 = Lasso(alpha=1)\n",
    "lasso_model2.fit(X_train, y_train)"
   ]
  },
  {
   "cell_type": "markdown",
   "id": "0cb97d6a",
   "metadata": {},
   "source": [
    "Lasso_model2"
   ]
  },
  {
   "cell_type": "code",
   "execution_count": 643,
   "id": "83d21c05",
   "metadata": {},
   "outputs": [
    {
     "data": {
      "text/plain": [
       "array([-0.        , -0.00562763, -0.02435025, -0.00598054,  0.        ,\n",
       "        0.61970055,  0.        , -0.        ])"
      ]
     },
     "execution_count": 643,
     "metadata": {},
     "output_type": "execute_result"
    }
   ],
   "source": [
    "lasso_model2.coef_"
   ]
  },
  {
   "cell_type": "markdown",
   "id": "142c73b8",
   "metadata": {},
   "source": [
    "# Question2"
   ]
  },
  {
   "cell_type": "markdown",
   "id": "25829f47",
   "metadata": {},
   "source": [
    "For 80% training and 20 test"
   ]
  },
  {
   "cell_type": "code",
   "execution_count": 644,
   "id": "63ba21fa",
   "metadata": {},
   "outputs": [],
   "source": [
    "X_train, X_test, y_train, y_test = train_test_split(X, y, test_size=0.20, random_state=42)"
   ]
  },
  {
   "cell_type": "code",
   "execution_count": 645,
   "id": "39e2fc2c",
   "metadata": {},
   "outputs": [],
   "source": [
    "import time\n",
    "from sklearn.preprocessing import StandardScaler\n",
    "from sklearn.linear_model import LassoLarsIC\n",
    "from sklearn.pipeline import make_pipeline\n",
    "\n",
    "start_time = time.time()\n",
    "lasso_lars_ic = make_pipeline(\n",
    "    StandardScaler(), LassoLarsIC(criterion=\"aic\", normalize=False)\n",
    ").fit(X_train, y_train)\n",
    "fit_time = time.time() - start_time"
   ]
  },
  {
   "cell_type": "code",
   "execution_count": 646,
   "id": "fc3d43fa",
   "metadata": {},
   "outputs": [],
   "source": [
    "results = pd.DataFrame(\n",
    "    {\n",
    "        \"alphas\": lasso_lars_ic[-1].alphas_,\n",
    "        \"AIC criterion\": lasso_lars_ic[-1].criterion_,\n",
    "    }\n",
    ").set_index(\"alphas\")\n",
    "alpha_aic = lasso_lars_ic[-1].alpha_"
   ]
  },
  {
   "cell_type": "code",
   "execution_count": 647,
   "id": "39f8c25c",
   "metadata": {},
   "outputs": [],
   "source": [
    "lasso_lars_ic.set_params(lassolarsic__criterion=\"bic\").fit(X_train, y_train)\n",
    "results[\"BIC criterion\"] = lasso_lars_ic[-1].criterion_\n",
    "alpha_bic = lasso_lars_ic[-1].alpha_"
   ]
  },
  {
   "cell_type": "code",
   "execution_count": 648,
   "id": "da3e6607",
   "metadata": {},
   "outputs": [
    {
     "data": {
      "text/html": [
       "<style  type=\"text/css\" >\n",
       "#T_e236c_row2_col1,#T_e236c_row5_col0{\n",
       "            font-weight:  bold;\n",
       "        }</style><table id=\"T_e236c_\" ><thead>    <tr>        <th class=\"blank level0\" ></th>        <th class=\"col_heading level0 col0\" >AIC criterion</th>        <th class=\"col_heading level0 col1\" >BIC criterion</th>    </tr>    <tr>        <th class=\"index_name level0\" >alphas</th>        <th class=\"blank\" ></th>        <th class=\"blank\" ></th>    </tr></thead><tbody>\n",
       "                <tr>\n",
       "                        <th id=\"T_e236c_level0_row0\" class=\"row_heading level0 row0\" >6.550900588022558</th>\n",
       "                        <td id=\"T_e236c_row0_col0\" class=\"data row0 col0\" >318.000000</td>\n",
       "                        <td id=\"T_e236c_row0_col1\" class=\"data row0 col1\" >318.000000</td>\n",
       "            </tr>\n",
       "            <tr>\n",
       "                        <th id=\"T_e236c_level0_row1\" class=\"row_heading level0 row1\" >3.77704144422005</th>\n",
       "                        <td id=\"T_e236c_row1_col0\" class=\"data row1 col0\" >174.693868</td>\n",
       "                        <td id=\"T_e236c_row1_col1\" class=\"data row1 col1\" >178.455920</td>\n",
       "            </tr>\n",
       "            <tr>\n",
       "                        <th id=\"T_e236c_level0_row2\" class=\"row_heading level0 row2\" >0.9546259811294339</th>\n",
       "                        <td id=\"T_e236c_row2_col0\" class=\"data row2 col0\" >73.533892</td>\n",
       "                        <td id=\"T_e236c_row2_col1\" class=\"data row2 col1\" >81.057995</td>\n",
       "            </tr>\n",
       "            <tr>\n",
       "                        <th id=\"T_e236c_level0_row3\" class=\"row_heading level0 row3\" >0.6945598677341562</th>\n",
       "                        <td id=\"T_e236c_row3_col0\" class=\"data row3 col0\" >72.215178</td>\n",
       "                        <td id=\"T_e236c_row3_col1\" class=\"data row3 col1\" >83.501332</td>\n",
       "            </tr>\n",
       "            <tr>\n",
       "                        <th id=\"T_e236c_level0_row4\" class=\"row_heading level0 row4\" >0.6318066523765673</th>\n",
       "                        <td id=\"T_e236c_row4_col0\" class=\"data row4 col0\" >73.425015</td>\n",
       "                        <td id=\"T_e236c_row4_col1\" class=\"data row4 col1\" >88.473220</td>\n",
       "            </tr>\n",
       "            <tr>\n",
       "                        <th id=\"T_e236c_level0_row5\" class=\"row_heading level0 row5\" >0.06750691622651057</th>\n",
       "                        <td id=\"T_e236c_row5_col0\" class=\"data row5 col0\" >68.960857</td>\n",
       "                        <td id=\"T_e236c_row5_col1\" class=\"data row5 col1\" >87.771114</td>\n",
       "            </tr>\n",
       "            <tr>\n",
       "                        <th id=\"T_e236c_level0_row6\" class=\"row_heading level0 row6\" >0.0627148875213986</th>\n",
       "                        <td id=\"T_e236c_row6_col0\" class=\"data row6 col0\" >70.949573</td>\n",
       "                        <td id=\"T_e236c_row6_col1\" class=\"data row6 col1\" >93.521882</td>\n",
       "            </tr>\n",
       "            <tr>\n",
       "                        <th id=\"T_e236c_level0_row7\" class=\"row_heading level0 row7\" >0.012652547029623836</th>\n",
       "                        <td id=\"T_e236c_row7_col0\" class=\"data row7 col0\" >71.683846</td>\n",
       "                        <td id=\"T_e236c_row7_col1\" class=\"data row7 col1\" >98.018206</td>\n",
       "            </tr>\n",
       "            <tr>\n",
       "                        <th id=\"T_e236c_level0_row8\" class=\"row_heading level0 row8\" >0.0</th>\n",
       "                        <td id=\"T_e236c_row8_col0\" class=\"data row8 col0\" >73.594413</td>\n",
       "                        <td id=\"T_e236c_row8_col1\" class=\"data row8 col1\" >103.690824</td>\n",
       "            </tr>\n",
       "    </tbody></table>"
      ],
      "text/plain": [
       "<pandas.io.formats.style.Styler at 0x7fbf824b7c40>"
      ]
     },
     "execution_count": 648,
     "metadata": {},
     "output_type": "execute_result"
    }
   ],
   "source": [
    "def highlight_min(x):\n",
    "    x_min = x.min()\n",
    "    return [\"font-weight: bold\" if v == x_min else \"\" for v in x]\n",
    "\n",
    "\n",
    "results.style.apply(highlight_min)"
   ]
  },
  {
   "cell_type": "code",
   "execution_count": 649,
   "id": "a957414b",
   "metadata": {},
   "outputs": [],
   "source": [
    "min_alphas = 0.06750691622651057"
   ]
  },
  {
   "cell_type": "code",
   "execution_count": 650,
   "id": "aacf914e",
   "metadata": {},
   "outputs": [
    {
     "data": {
      "text/plain": [
       "Lasso(alpha=0.06750691622651057)"
      ]
     },
     "execution_count": 650,
     "metadata": {},
     "output_type": "execute_result"
    }
   ],
   "source": [
    "lasso_model_min = Lasso(alpha=0.06750691622651057)\n",
    "lasso_model_min.fit(X_train, y_train)"
   ]
  },
  {
   "cell_type": "code",
   "execution_count": 651,
   "id": "7b394279",
   "metadata": {},
   "outputs": [
    {
     "data": {
      "text/plain": [
       "-19.931249456996433"
      ]
     },
     "execution_count": 651,
     "metadata": {},
     "output_type": "execute_result"
    }
   ],
   "source": [
    "lasso_model_min.intercept_"
   ]
  },
  {
   "cell_type": "code",
   "execution_count": 652,
   "id": "39a49583",
   "metadata": {},
   "outputs": [
    {
     "data": {
      "text/plain": [
       "array([-0.        ,  0.01087387, -0.00875756, -0.00699346,  0.05274951,\n",
       "        0.810288  ,  1.77189689,  1.52511945])"
      ]
     },
     "execution_count": 652,
     "metadata": {},
     "output_type": "execute_result"
    }
   ],
   "source": [
    "lasso_model_min.coef_"
   ]
  },
  {
   "cell_type": "markdown",
   "id": "5bd861cc",
   "metadata": {},
   "source": [
    "Explain how to choose the optimal alpha:\n",
    "We start the alpha from 0 and fit the model for each alpha to check the AIC and BIC, with the alpha increasing, both AIC and BIC will reach their own lowest value, then find the coressponding alpha as the optimal point. In this case, we choose the alpha with lowest AIC\n"
   ]
  },
  {
   "cell_type": "markdown",
   "id": "9ca8e121",
   "metadata": {},
   "source": [
    "# Question3"
   ]
  },
  {
   "cell_type": "code",
   "execution_count": 653,
   "id": "a4268073",
   "metadata": {},
   "outputs": [],
   "source": [
    "X = car_dataset.drop('mpg',axis=1)\n",
    "y = car_dataset['mpg']"
   ]
  },
  {
   "cell_type": "code",
   "execution_count": 654,
   "id": "2b53bf3d",
   "metadata": {},
   "outputs": [],
   "source": [
    "model_3 = LinearRegression()"
   ]
  },
  {
   "cell_type": "code",
   "execution_count": 655,
   "id": "58482954",
   "metadata": {},
   "outputs": [],
   "source": [
    "from sklearn.model_selection import KFold"
   ]
  },
  {
   "cell_type": "code",
   "execution_count": 656,
   "id": "62adffac",
   "metadata": {},
   "outputs": [],
   "source": [
    "kfold = KFold(n_splits=10, shuffle=True, random_state=42)"
   ]
  },
  {
   "cell_type": "code",
   "execution_count": 657,
   "id": "ebc41f64",
   "metadata": {},
   "outputs": [],
   "source": [
    "results = cross_val_score(model, X, y, cv=kfold, scoring='r2')"
   ]
  },
  {
   "cell_type": "code",
   "execution_count": 658,
   "id": "3a87d5b8",
   "metadata": {},
   "outputs": [
    {
     "name": "stdout",
     "output_type": "stream",
     "text": [
      "[0.82644355 0.87831208 0.83368074 0.80213669 0.84758022 0.81205758\n",
      " 0.77665039 0.80919246 0.77321497 0.79711136]\n"
     ]
    }
   ],
   "source": [
    "print(results)"
   ]
  },
  {
   "cell_type": "code",
   "execution_count": 659,
   "id": "97d8eb67",
   "metadata": {},
   "outputs": [],
   "source": [
    "a=[0.82644355,0.87831208,0.83368074,0.80213669,0.84758022,0.81205758,\n",
    " 0.77665039,0.80919246,0.77321497,0.79711136]"
   ]
  },
  {
   "cell_type": "code",
   "execution_count": 660,
   "id": "a0dbc7e9",
   "metadata": {},
   "outputs": [
    {
     "data": {
      "text/plain": [
       "0.8156380040000002"
      ]
     },
     "execution_count": 660,
     "metadata": {},
     "output_type": "execute_result"
    }
   ],
   "source": [
    "sum(a)/len(a)"
   ]
  },
  {
   "cell_type": "markdown",
   "id": "63e3189c",
   "metadata": {},
   "source": [
    "Observation: The highest R-square of the 10-fold cross validation is 0.84758022, the mean R-square is 0.815638, because we use the complete dataset to fit model, the R-square is not OOS R2, it just show how well the model fit the data"
   ]
  },
  {
   "cell_type": "markdown",
   "id": "152e446d",
   "metadata": {},
   "source": [
    "# Question4"
   ]
  },
  {
   "cell_type": "code",
   "execution_count": 661,
   "id": "84eee696",
   "metadata": {},
   "outputs": [],
   "source": [
    "X = car_dataset.drop('mpg',axis=1)\n",
    "y = car_dataset['mpg']"
   ]
  },
  {
   "cell_type": "code",
   "execution_count": 662,
   "id": "e12e4397",
   "metadata": {},
   "outputs": [
    {
     "data": {
      "text/plain": [
       "5.986452005284438"
      ]
     },
     "execution_count": 662,
     "metadata": {},
     "output_type": "execute_result"
    }
   ],
   "source": [
    "log(398)"
   ]
  },
  {
   "cell_type": "code",
   "execution_count": 663,
   "id": "2d770b80",
   "metadata": {},
   "outputs": [
    {
     "data": {
      "text/plain": [
       "array([ 0.        , -0.        , -0.00532359, -0.00665824,  0.        ,\n",
       "        0.704171  ,  0.        ,  0.        ])"
      ]
     },
     "execution_count": 663,
     "metadata": {},
     "output_type": "execute_result"
    }
   ],
   "source": [
    "lasso_model1.coef_"
   ]
  },
  {
   "cell_type": "code",
   "execution_count": 664,
   "id": "82b46803",
   "metadata": {},
   "outputs": [
    {
     "data": {
      "text/plain": [
       "array([-0.        , -0.00562763, -0.02435025, -0.00598054,  0.        ,\n",
       "        0.61970055,  0.        , -0.        ])"
      ]
     },
     "execution_count": 664,
     "metadata": {},
     "output_type": "execute_result"
    }
   ],
   "source": [
    "lasso_model2.coef_"
   ]
  },
  {
   "cell_type": "code",
   "execution_count": 665,
   "id": "5b1dd330",
   "metadata": {},
   "outputs": [
    {
     "data": {
      "text/plain": [
       "array([-0.        ,  0.01087387, -0.00875756, -0.00699346,  0.05274951,\n",
       "        0.810288  ,  1.77189689,  1.52511945])"
      ]
     },
     "execution_count": 665,
     "metadata": {},
     "output_type": "execute_result"
    }
   ],
   "source": [
    "lasso_model_min.coef_"
   ]
  },
  {
   "cell_type": "code",
   "execution_count": 666,
   "id": "7b3792fa",
   "metadata": {},
   "outputs": [],
   "source": [
    "yhat_1 = lasso_model1.predict(X)"
   ]
  },
  {
   "cell_type": "code",
   "execution_count": 667,
   "id": "d19da089",
   "metadata": {},
   "outputs": [],
   "source": [
    "yhat_2 = lasso_model2.predict(X)"
   ]
  },
  {
   "cell_type": "code",
   "execution_count": 668,
   "id": "6fba74b9",
   "metadata": {},
   "outputs": [],
   "source": [
    "yhat_min = lasso_model_min.predict(X)"
   ]
  },
  {
   "cell_type": "code",
   "execution_count": 669,
   "id": "51b08159",
   "metadata": {},
   "outputs": [
    {
     "name": "stdout",
     "output_type": "stream",
     "text": [
      "Number of parameters: 9\n",
      "MSE: 11.745\n",
      "AIC: 998.442\n"
     ]
    }
   ],
   "source": [
    "from math import log\n",
    "from sklearn.datasets import make_regression\n",
    "from sklearn.linear_model import LinearRegression\n",
    "from sklearn.metrics import mean_squared_error\n",
    " \n",
    "# calculate aic for regression\n",
    "def calculate_aic(n, mse, num_params):\n",
    "    aic = n * log(mse) + 2 * num_params\n",
    "    return aic\n",
    " \n",
    "# number of parameters\n",
    "num_params = len(lasso_model1.coef_) + 1\n",
    "print('Number of parameters: %d' % (num_params))\n",
    "# predict the training set\n",
    "\n",
    "# calculate the error\n",
    "mse = mean_squared_error(y, yhat_1)\n",
    "print('MSE: %.3f' % mse)\n",
    "# calculate the aic\n",
    "aic = calculate_aic(len(y), mse, num_params)\n",
    "print('AIC: %.3f' % aic)\n"
   ]
  },
  {
   "cell_type": "code",
   "execution_count": 670,
   "id": "f3c27c67",
   "metadata": {},
   "outputs": [
    {
     "name": "stdout",
     "output_type": "stream",
     "text": [
      "Number of parameters: 9\n",
      "MSE: 12.541\n",
      "AIC: 1024.536\n"
     ]
    }
   ],
   "source": [
    "# calculate aic for regression\n",
    "def calculate_aic(n, mse, num_params):\n",
    "    aic = n * log(mse) + 2 * num_params\n",
    "    return aic\n",
    " \n",
    "# number of parameters\n",
    "num_params = len(lasso_model2.coef_) + 1\n",
    "print('Number of parameters: %d' % (num_params))\n",
    "# predict the training set\n",
    "\n",
    "# calculate the error\n",
    "mse = mean_squared_error(y, yhat_2)\n",
    "print('MSE: %.3f' % mse)\n",
    "# calculate the aic\n",
    "aic = calculate_aic(len(y), mse, num_params)\n",
    "print('AIC: %.3f' % aic)"
   ]
  },
  {
   "cell_type": "code",
   "execution_count": 671,
   "id": "f40b5738",
   "metadata": {},
   "outputs": [
    {
     "name": "stdout",
     "output_type": "stream",
     "text": [
      "Number of parameters: 9\n",
      "MSE: 10.932\n",
      "AIC: 969.882\n"
     ]
    }
   ],
   "source": [
    "def calculate_aic(n, mse, num_params):\n",
    "    aic = n * log(mse) + 2 * num_params\n",
    "    return aic\n",
    " \n",
    "# number of parameters\n",
    "num_params = len(lasso_model_min.coef_) + 1\n",
    "print('Number of parameters: %d' % (num_params))\n",
    "\n",
    "# calculate the error\n",
    "mse = mean_squared_error(y, yhat_min)\n",
    "print('MSE: %.3f' % mse)\n",
    "# calculate the aic\n",
    "aic = calculate_aic(len(y), mse, num_params)\n",
    "print('AIC: %.3f' % aic)"
   ]
  },
  {
   "cell_type": "code",
   "execution_count": 672,
   "id": "70c809a9",
   "metadata": {},
   "outputs": [
    {
     "name": "stdout",
     "output_type": "stream",
     "text": [
      "Lasso_model1 AIC: 998.442\n",
      "Lasso_model2 AIC: 1024.536\n",
      "Lasso_model_min AIC: 969.882\n"
     ]
    }
   ],
   "source": [
    "print(\"Lasso_model1 AIC: 998.442\")\n",
    "print(\"Lasso_model2 AIC: 1024.536\")\n",
    "print(\"Lasso_model_min AIC: 969.882\")"
   ]
  },
  {
   "cell_type": "code",
   "execution_count": 673,
   "id": "6b888470",
   "metadata": {},
   "outputs": [
    {
     "name": "stdout",
     "output_type": "stream",
     "text": [
      "Number of parameters: 9\n",
      "MSE: 11.745\n",
      "BIC: 1034.320\n"
     ]
    }
   ],
   "source": [
    "def calculate_bic(n, mse, num_params):\n",
    "    bic = n * log(mse) + num_params * log(n)\n",
    "    return bic\n",
    "\n",
    "\n",
    "# number of parameters\n",
    "num_params = len(lasso_model1.coef_) + 1\n",
    "print('Number of parameters: %d' % (num_params))\n",
    "\n",
    "# calculate the error\n",
    "mse = mean_squared_error(y, yhat_1)\n",
    "print('MSE: %.3f' % mse)\n",
    "# calculate the bic\n",
    "bic = calculate_bic(len(y), mse, num_params)\n",
    "print('BIC: %.3f' % bic)"
   ]
  },
  {
   "cell_type": "code",
   "execution_count": 674,
   "id": "afd627b3",
   "metadata": {},
   "outputs": [
    {
     "name": "stdout",
     "output_type": "stream",
     "text": [
      "Number of parameters: 9\n",
      "MSE: 12.541\n",
      "BIC: 1060.414\n"
     ]
    }
   ],
   "source": [
    "def calculate_bic(n, mse, num_params):\n",
    "    bic = n * log(mse) + num_params * log(n)\n",
    "    return bic\n",
    "\n",
    "\n",
    "# number of parameters\n",
    "num_params = len(lasso_model2.coef_) + 1\n",
    "print('Number of parameters: %d' % (num_params))\n",
    "\n",
    "# calculate the error\n",
    "mse = mean_squared_error(y, yhat_2)\n",
    "print('MSE: %.3f' % mse)\n",
    "# calculate the bic\n",
    "bic = calculate_bic(len(y), mse, num_params)\n",
    "print('BIC: %.3f' % bic)"
   ]
  },
  {
   "cell_type": "code",
   "execution_count": 675,
   "id": "9b9c2c34",
   "metadata": {},
   "outputs": [
    {
     "name": "stdout",
     "output_type": "stream",
     "text": [
      "Number of parameters: 9\n",
      "MSE: 10.932\n",
      "BIC: 1005.760\n"
     ]
    }
   ],
   "source": [
    "def calculate_bic(n, mse, num_params):\n",
    "    bic = n * log(mse) + num_params * log(n)\n",
    "    return bic\n",
    "\n",
    "\n",
    "# number of parameters\n",
    "num_params = len(lasso_model_min.coef_) + 1\n",
    "print('Number of parameters: %d' % (num_params))\n",
    "\n",
    "# calculate the error\n",
    "mse = mean_squared_error(y, yhat_min)\n",
    "print('MSE: %.3f' % mse)\n",
    "# calculate the bic\n",
    "bic = calculate_bic(len(y), mse, num_params)\n",
    "print('BIC: %.3f' % bic)"
   ]
  },
  {
   "cell_type": "code",
   "execution_count": 676,
   "id": "80bbf318",
   "metadata": {},
   "outputs": [
    {
     "name": "stdout",
     "output_type": "stream",
     "text": [
      "Lasso_model1 BIC: 1034.320\n",
      "Lasso_model2 BIC: 1060.414\n",
      "Lasso_model_min BIC: 1005.760\n"
     ]
    }
   ],
   "source": [
    "print(\"Lasso_model1 BIC: 1034.320\")\n",
    "print(\"Lasso_model2 BIC: 1060.414\")\n",
    "print(\"Lasso_model_min BIC: 1005.760\")"
   ]
  },
  {
   "cell_type": "code",
   "execution_count": 677,
   "id": "b4422406",
   "metadata": {},
   "outputs": [],
   "source": [
    "AIC_1 = 998.442\n",
    "AIC_2 = 1024.536\n",
    "AIC_min = 969.882"
   ]
  },
  {
   "cell_type": "code",
   "execution_count": 678,
   "id": "3c1f10f4",
   "metadata": {},
   "outputs": [
    {
     "data": {
      "text/plain": [
       "398"
      ]
     },
     "execution_count": 678,
     "metadata": {},
     "output_type": "execute_result"
    }
   ],
   "source": [
    "n = len(car_dataset)\n",
    "n"
   ]
  },
  {
   "cell_type": "code",
   "execution_count": 679,
   "id": "bdc8f9dc",
   "metadata": {},
   "outputs": [],
   "source": [
    "k = 9"
   ]
  },
  {
   "cell_type": "code",
   "execution_count": 680,
   "id": "d38caa47",
   "metadata": {},
   "outputs": [
    {
     "data": {
      "text/plain": [
       "998.9059175257732"
      ]
     },
     "execution_count": 680,
     "metadata": {},
     "output_type": "execute_result"
    }
   ],
   "source": [
    "AICc_1 = AIC_1 + (2 * k**2 + 2 * k)/(n-k-1)\n",
    "AICc_1"
   ]
  },
  {
   "cell_type": "code",
   "execution_count": 681,
   "id": "b2c4a554",
   "metadata": {},
   "outputs": [
    {
     "data": {
      "text/plain": [
       "1024.9999175257733"
      ]
     },
     "execution_count": 681,
     "metadata": {},
     "output_type": "execute_result"
    }
   ],
   "source": [
    "AICc_2 = AIC_2 + (2 * k**2 + 2 * k)/(n-k-1)\n",
    "AICc_2"
   ]
  },
  {
   "cell_type": "code",
   "execution_count": 682,
   "id": "0eede71f",
   "metadata": {},
   "outputs": [
    {
     "data": {
      "text/plain": [
       "970.3459175257732"
      ]
     },
     "execution_count": 682,
     "metadata": {},
     "output_type": "execute_result"
    }
   ],
   "source": [
    "AICc_min = AIC_min + (2 * k**2 + 2 * k)/(n-k-1)\n",
    "AICc_min"
   ]
  },
  {
   "cell_type": "code",
   "execution_count": 683,
   "id": "93cb5344",
   "metadata": {},
   "outputs": [
    {
     "name": "stdout",
     "output_type": "stream",
     "text": [
      "Lasso_model1 AICc: 998.906\n",
      "Lasso_model2 AICc: 1025\n",
      "Lasso_model_min AICc: 970.346\n"
     ]
    }
   ],
   "source": [
    "print(\"Lasso_model1 AICc: 998.906\")\n",
    "print(\"Lasso_model2 AICc: 1025\")\n",
    "print(\"Lasso_model_min AICc: 970.346\")"
   ]
  },
  {
   "cell_type": "code",
   "execution_count": 684,
   "id": "b3280c90",
   "metadata": {},
   "outputs": [
    {
     "name": "stdout",
     "output_type": "stream",
     "text": [
      "Lasso_model1 AIC: 998.442\n",
      "Lasso_model2 AIC: 1024.536\n",
      "Lasso_model_min AIC: 969.882\n",
      "Lasso_model1 BIC: 1034.320\n",
      "Lasso_model2 BIC: 1060.414\n",
      "Lasso_model_min BIC: 1005.760\n",
      "Lasso_model1 AICc: 998.906\n",
      "Lasso_model2 AICc: 1025\n",
      "Lasso_model_min AICc: 970.346\n"
     ]
    }
   ],
   "source": [
    "print(\"Lasso_model1 AIC: 998.442\")\n",
    "print(\"Lasso_model2 AIC: 1024.536\")\n",
    "print(\"Lasso_model_min AIC: 969.882\")\n",
    "\n",
    "print(\"Lasso_model1 BIC: 1034.320\")\n",
    "print(\"Lasso_model2 BIC: 1060.414\")\n",
    "print(\"Lasso_model_min BIC: 1005.760\")\n",
    "\n",
    "print(\"Lasso_model1 AICc: 998.906\")\n",
    "print(\"Lasso_model2 AICc: 1025\")\n",
    "print(\"Lasso_model_min AICc: 970.346\")\n",
    "\n"
   ]
  },
  {
   "cell_type": "markdown",
   "id": "6fd905a0",
   "metadata": {},
   "source": [
    "1.Lasso_model_min(from Question3) is the best model because it has lowes AIC, BIC and AICc\n",
    "2.BIC is always larger than AIC, because AIC = deviance + 2df; BIC = deviance + log(n)df, in this data set, log(n) is larger than 2."
   ]
  },
  {
   "cell_type": "markdown",
   "id": "ce93714b",
   "metadata": {},
   "source": [
    "# Question5"
   ]
  },
  {
   "cell_type": "markdown",
   "id": "c55d9333",
   "metadata": {},
   "source": [
    "What are Randomized Control Trials: A/B Tests? What is its significance? Elaborate. Explain methods used in analyzing the RCT data\n",
    "\n",
    "RCT:\n",
    "The Randomized Control Trials is a scientific design that completely randomizes samples into two groups, treatment group, and control group. Because the sampling and grouping are completely random, both known and unknown factors will be balanced or we can say eliminated, then we can just focus on the treatment itself to know whether the treatment is impactful or not.\n",
    "\n",
    "Significance:\n",
    "It's commonly used in the clinical trial or other medical experiments. Many tech companies use A/B test to test their hypothesis for any update or new product, to see if the new one is better than the old one. Because it's impossible to create two completely identical groups as comparison, RCT is the best way to test the treatment effect.\n",
    "\n",
    "Method:\n",
    "Treatment mean minus Control mean."
   ]
  }
 ],
 "metadata": {
  "kernelspec": {
   "display_name": "Python 3",
   "language": "python",
   "name": "python3"
  },
  "language_info": {
   "codemirror_mode": {
    "name": "ipython",
    "version": 3
   },
   "file_extension": ".py",
   "mimetype": "text/x-python",
   "name": "python",
   "nbconvert_exporter": "python",
   "pygments_lexer": "ipython3",
   "version": "3.8.8"
  }
 },
 "nbformat": 4,
 "nbformat_minor": 5
}
